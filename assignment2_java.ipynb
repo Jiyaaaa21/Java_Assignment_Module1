{
  "nbformat": 4,
  "nbformat_minor": 0,
  "metadata": {
    "colab": {
      "provenance": [],
      "include_colab_link": true
    },
    "kernelspec": {
      "name": "python3",
      "display_name": "Python 3"
    },
    "language_info": {
      "name": "python"
    }
  },
  "cells": [
    {
      "cell_type": "markdown",
      "metadata": {
        "id": "view-in-github",
        "colab_type": "text"
      },
      "source": [
        "<a href=\"https://colab.research.google.com/github/Jiyaaaa21/Java_Assignment_Module1/blob/main/assignment2_java.ipynb\" target=\"_parent\"><img src=\"https://colab.research.google.com/assets/colab-badge.svg\" alt=\"Open In Colab\"/></a>"
      ]
    },
    {
      "cell_type": "code",
      "execution_count": null,
      "metadata": {
        "colab": {
          "base_uri": "https://localhost:8080/"
        },
        "id": "x2XR6HfMC6Bj",
        "outputId": "ecd7c44e-2a64-437c-f1c6-40d56efcfc9e"
      },
      "outputs": [
        {
          "output_type": "stream",
          "name": "stdout",
          "text": [
            "  % Total    % Received % Xferd  Average Speed   Time    Time     Time  Current\n",
            "                                 Dload  Upload   Total   Spent    Left  Speed\n",
            "100   520  100   520    0     0   2730      0 --:--:-- --:--:-- --:--:--  2736\n",
            "Update environment...\n",
            "Install Java...\n",
            "Install Jupyter java kernel...\n"
          ]
        }
      ],
      "source": [
        "!curl -O https://raw.githubusercontent.com/deepjavalibrary/d2l-java/master/tools/colab_build.sh && bash colab_build.sh\n"
      ]
    },
    {
      "cell_type": "code",
      "source": [
        "import os\n",
        "def install_java():\n",
        " !apt-get install -y openjdk-8-jdk-headless -qq > /dev/null\n",
        " os.environ[\"JAVA_HOME\"] = \"/usr/lib/jvm/java-8-openjdk-amd64\"\n",
        " !java -version\n",
        "install_java()"
      ],
      "metadata": {
        "colab": {
          "base_uri": "https://localhost:8080/"
        },
        "id": "khK5_OTgDBIL",
        "outputId": "16abe68c-e5c4-46d8-ed0a-a322f12e9be8"
      },
      "execution_count": null,
      "outputs": [
        {
          "output_type": "stream",
          "name": "stdout",
          "text": [
            "openjdk version \"11.0.28\" 2025-07-15\n",
            "OpenJDK Runtime Environment (build 11.0.28+6-post-Ubuntu-1ubuntu122.04.1)\n",
            "OpenJDK 64-Bit Server VM (build 11.0.28+6-post-Ubuntu-1ubuntu122.04.1, mixed mode, sharing)\n"
          ]
        }
      ]
    },
    {
      "cell_type": "code",
      "source": [
        "%%writefile Main.java\n",
        "class Vehicle {\n",
        "    void displayType() {\n",
        "        System.out.println(\"Generic Vehicle\");\n",
        "    }\n",
        "}\n",
        "\n",
        "\n",
        "class Car extends Vehicle {\n",
        "    @Override\n",
        "    void displayType() {\n",
        "        System.out.println(\"Car\");\n",
        "    }\n",
        "}\n",
        "\n",
        "public class Main {\n",
        "    public static void main(String[] args) {\n",
        "        // Vehicle reference pointing to a Car object\n",
        "        Vehicle myVehicle = new Car();\n",
        "\n",
        "        myVehicle.displayType(); // Output: Car\n",
        "    }\n",
        "}\n"
      ],
      "metadata": {
        "id": "yZEnajB7DJzG",
        "colab": {
          "base_uri": "https://localhost:8080/"
        },
        "outputId": "b72e4ef5-199a-49bf-c560-4e098e22dc85"
      },
      "execution_count": null,
      "outputs": [
        {
          "output_type": "stream",
          "name": "stdout",
          "text": [
            "Writing Main.java\n"
          ]
        }
      ]
    },
    {
      "cell_type": "code",
      "source": [
        "!javac Main.java\n",
        "!java Main"
      ],
      "metadata": {
        "id": "qHfUWMkwDJvL",
        "colab": {
          "base_uri": "https://localhost:8080/"
        },
        "outputId": "4b341906-ef2e-4af6-d663-258532500262"
      },
      "execution_count": null,
      "outputs": [
        {
          "output_type": "stream",
          "name": "stdout",
          "text": [
            "Car\n"
          ]
        }
      ]
    },
    {
      "cell_type": "code",
      "source": [
        "%%writefile ArrayOperations.java\n",
        "import java.util.Scanner;\n",
        "\n",
        "public class ArrayOperations {\n",
        "    public static void main(String[] args) {\n",
        "        Scanner sc = new Scanner(System.in);\n",
        "\n",
        "        int[] arr = new int[5];\n",
        "\n",
        "     t\n",
        "        System.out.println(\"Enter 5 integers:\");\n",
        "        for (int i = 0; i < arr.length; i++) {\n",
        "            arr[i] = sc.nextInt();\n",
        "        }\n",
        "\n",
        "        int largest = arr[0];\n",
        "        for (int i = 1; i < arr.length; i++) {\n",
        "            if (arr[i] > largest) {\n",
        "                largest = arr[i];\n",
        "            }\n",
        "        }\n",
        "        System.out.println(\"Largest element: \" + largest);\n",
        "        int sum = 0;\n",
        "        for (int num : arr) {\n",
        "            sum += num;\n",
        "        }\n",
        "        double average = (double) sum / arr.length;\n",
        "        System.out.println(\"Average: \" + average);\n",
        "\n",
        "        sc.close();\n",
        "    }\n",
        "}\n"
      ],
      "metadata": {
        "id": "eb6bNZroDJtv",
        "colab": {
          "base_uri": "https://localhost:8080/"
        },
        "outputId": "f9fc5e42-8ec4-4647-adb5-35bbec919205"
      },
      "execution_count": null,
      "outputs": [
        {
          "output_type": "stream",
          "name": "stdout",
          "text": [
            "Writing Array.java\n"
          ]
        }
      ]
    },
    {
      "cell_type": "code",
      "source": [
        "!javac ArrayOperations.java\n",
        "!java ArrayOperations"
      ],
      "metadata": {
        "id": "jmYSNm52DJp-",
        "colab": {
          "base_uri": "https://localhost:8080/"
        },
        "outputId": "7d5f4a01-f8b6-4964-97b3-d05592b32313"
      },
      "execution_count": null,
      "outputs": [
        {
          "output_type": "stream",
          "name": "stdout",
          "text": [
            "Enter 5 integers:\n",
            "10 12 45 67 67 \n",
            "Largest element: 67\n",
            "Average: 40.2\n"
          ]
        }
      ]
    },
    {
      "cell_type": "code",
      "source": [
        "%%writefile main.java\n",
        "class Person {\n",
        "    String name;\n",
        "    int age;\n",
        "\n",
        "    public Person(String name, int age) {\n",
        "        this.name = name;\n",
        "        this.age = age;\n",
        "    }\n",
        "}\n",
        " class employee extends Person {\n",
        "    double salary;\n",
        "\n",
        "    public employee(String name, int age, double salary) {\n",
        "        super(name, age);\n",
        "        this.salary = salary;\n",
        "    }\n",
        "}\n",
        "class manager extends employee {\n",
        "    String department;\n",
        "\n",
        "    public manager(String name, int age, double salary, String department) {\n",
        "        super(name, age, salary);\n",
        "        this.department = department;\n",
        "    }\n",
        "}\n",
        " public class main {\n",
        "    public static void main(String[] args) {\n",
        "        manager manager = new manager(\"John Doe\", 35, 75000.0, \"IT\");\n",
        "        System.out.println(\"Name: \" + manager.name);\n",
        "        System.out.println(\"Age: \" + manager.age);\n",
        "        System.out.println(\"Salary: \" + manager.salary);\n",
        " }\n",
        " }"
      ],
      "metadata": {
        "id": "XbajmQocDJoU",
        "colab": {
          "base_uri": "https://localhost:8080/"
        },
        "outputId": "eba0cad0-a323-4688-85e0-e16f942917ac"
      },
      "execution_count": null,
      "outputs": [
        {
          "output_type": "stream",
          "name": "stdout",
          "text": [
            "Overwriting main.java\n"
          ]
        }
      ]
    },
    {
      "cell_type": "code",
      "source": [
        "!javac main.java\n",
        "!java main"
      ],
      "metadata": {
        "colab": {
          "base_uri": "https://localhost:8080/"
        },
        "id": "9qAKt0MHYVcX",
        "outputId": "8e38811e-f5d7-43c7-f9c8-3dd34a8da035"
      },
      "execution_count": null,
      "outputs": [
        {
          "output_type": "stream",
          "name": "stdout",
          "text": [
            "Name: John Doe\n",
            "Age: 35\n",
            "Salary: 75000.0\n"
          ]
        }
      ]
    },
    {
      "cell_type": "code",
      "source": [
        "%%writefile area.java\n",
        "\n",
        "abstract class Shape {\n",
        "    abstract double area();\n",
        "\n",
        "    void displayShape() {\n",
        "        System.out.println(\"This is a shape\");\n",
        "    }\n",
        "}\n",
        "\n",
        "class Circle extends Shape {\n",
        "    double radius;\n",
        "\n",
        "    Circle(double radius) {\n",
        "        this.radius = radius;\n",
        "    }\n",
        "\n",
        "    @Override\n",
        "    double area() {\n",
        "        return Math.PI * radius * radius;\n",
        "    }\n",
        "}\n",
        "\n",
        "class Rectangle extends Shape {\n",
        "    double length, width;\n",
        "\n",
        "    Rectangle(double length, double width) {\n",
        "        this.length = length;\n",
        "        this.width = width;\n",
        "    }\n",
        "\n",
        "    @Override\n",
        "    double area() {\n",
        "        return length * width;\n",
        "    }\n",
        "}\n",
        "\n",
        "public class area {\n",
        "    public static void main(String[] args) {\n",
        "\n",
        "        Shape circle = new Circle(5);\n",
        "        circle.displayShape();\n",
        "        System.out.println(\"Circle Area: \" + circle.area());\n",
        "\n",
        "        System.out.println();\n",
        "\n",
        "        Shape rectangle = new Rectangle(4, 6);\n",
        "        rectangle.displayShape();\n",
        "        System.out.println(\"Rectangle Area: \" + rectangle.area());\n",
        "    }\n",
        "}\n"
      ],
      "metadata": {
        "colab": {
          "base_uri": "https://localhost:8080/"
        },
        "id": "jQoN8LkUYVXg",
        "outputId": "714872a2-eac3-4f49-a1b0-74c1a175eb00"
      },
      "execution_count": null,
      "outputs": [
        {
          "output_type": "stream",
          "name": "stdout",
          "text": [
            "Writing area.java\n"
          ]
        }
      ]
    },
    {
      "cell_type": "code",
      "source": [
        "!javac area.java\n",
        "!java area"
      ],
      "metadata": {
        "colab": {
          "base_uri": "https://localhost:8080/"
        },
        "id": "FzV6hllJYVTO",
        "outputId": "4d85de89-8144-4d51-bea5-362b5671c9a0"
      },
      "execution_count": null,
      "outputs": [
        {
          "output_type": "stream",
          "name": "stdout",
          "text": [
            "This is a shape\n",
            "Circle Area: 78.53981633974483\n",
            "\n",
            "This is a shape\n",
            "Rectangle Area: 24.0\n"
          ]
        }
      ]
    },
    {
      "cell_type": "code",
      "source": [
        "%%writefile Exception.java\n",
        "public class Exception {\n",
        "    public static void main(String[] args) {\n",
        "        int[] numbers = {10, 20, 30};\n",
        "\n",
        "        System.out.println(\"Array elements:\");\n",
        "        for (int num : numbers) {\n",
        "            System.out.println(num);\n",
        "        }\n",
        "\n",
        "        System.out.println(\"\\nAccessing index 5...\");\n",
        "\n",
        "        System.out.println(numbers[5]);\n",
        "    }\n",
        "}\n"
      ],
      "metadata": {
        "colab": {
          "base_uri": "https://localhost:8080/"
        },
        "id": "-btLkL7ZYVPC",
        "outputId": "eea67f95-f49e-4c44-af5e-fce27acee416"
      },
      "execution_count": null,
      "outputs": [
        {
          "output_type": "stream",
          "name": "stdout",
          "text": [
            "Writing Exception.java\n"
          ]
        }
      ]
    },
    {
      "cell_type": "code",
      "source": [
        "!javac Exception.java\n",
        "!java Exception"
      ],
      "metadata": {
        "colab": {
          "base_uri": "https://localhost:8080/"
        },
        "id": "RyIptA4cYVLr",
        "outputId": "469f00c0-a44f-4a6c-cabd-dd1912f3086a"
      },
      "execution_count": null,
      "outputs": [
        {
          "output_type": "stream",
          "name": "stdout",
          "text": [
            "Array elements:\n",
            "10\n",
            "20\n",
            "30\n",
            "\n",
            "Accessing index 5...\n",
            "Exception in thread \"main\" java.lang.ArrayIndexOutOfBoundsException: Index 5 out of bounds for length 3\n",
            "\tat Exception.main(Exception.java:12)\n"
          ]
        }
      ]
    },
    {
      "cell_type": "code",
      "source": [
        "%%writefile ArrayListExample.java\n",
        "import java.util.ArrayList;\n",
        "public class ArrayListExample {\n",
        "    public static void main(String[] args) {\n",
        "        ArrayList<Integer> list = new ArrayList<>();\n",
        "        list.add(10);\n",
        "        list.add(20);\n",
        "        list.add(30);\n",
        "        for (int num : list) {\n",
        "            System.out.println(num);\n",
        "        }\n",
        "    }\n",
        "}"
      ],
      "metadata": {
        "colab": {
          "base_uri": "https://localhost:8080/"
        },
        "id": "yR91NuD__yk1",
        "outputId": "0b76b5be-e8af-49a8-885c-260df854ec09"
      },
      "execution_count": null,
      "outputs": [
        {
          "output_type": "stream",
          "name": "stdout",
          "text": [
            "Writing ArrayListExample.java\n"
          ]
        }
      ]
    },
    {
      "cell_type": "code",
      "source": [
        "!javac ArrayListExample.java\n",
        "!java ArrayListExample"
      ],
      "metadata": {
        "colab": {
          "base_uri": "https://localhost:8080/"
        },
        "id": "by0Xmr8m_yh8",
        "outputId": "bf399466-a66a-4857-f0e1-597d1d67ed55"
      },
      "execution_count": null,
      "outputs": [
        {
          "output_type": "stream",
          "name": "stdout",
          "text": [
            "10\n",
            "20\n",
            "30\n"
          ]
        }
      ]
    },
    {
      "cell_type": "code",
      "source": [
        "%%writefile CalculatorLambda.java\n",
        "@FunctionalInterface\n",
        "interface Calculator {\n",
        "    int compute(int a, int b);\n",
        "}\n",
        "public class CalculatorLambda {\n",
        "    public static void main(String[] args) {\n",
        "        Calculator add = (a, b) -> a + b;\n",
        "        Calculator sub = (a, b) -> a - b;\n",
        "        Calculator mul = (a, b) -> a * b;\n",
        "        System.out.println(add.compute(5, 3));\n",
        "        System.out.println(sub.compute(5, 3));\n",
        "        System.out.println(mul.compute(5, 3));\n",
        "    }\n",
        "}\n"
      ],
      "metadata": {
        "colab": {
          "base_uri": "https://localhost:8080/"
        },
        "id": "1bKZkFl1_ye8",
        "outputId": "ca56a8e7-8249-4e45-8053-a2b84bf77126"
      },
      "execution_count": null,
      "outputs": [
        {
          "output_type": "stream",
          "name": "stdout",
          "text": [
            "Writing CalculatorLambda.java\n"
          ]
        }
      ]
    },
    {
      "cell_type": "code",
      "source": [
        "!javac CalculatorLambda.java\n",
        "!java CalculatorLambda\n"
      ],
      "metadata": {
        "colab": {
          "base_uri": "https://localhost:8080/"
        },
        "id": "4MYIc6jl_ycq",
        "outputId": "029ed226-86d3-422d-f1aa-e7c2e4981ef0"
      },
      "execution_count": null,
      "outputs": [
        {
          "output_type": "stream",
          "name": "stdout",
          "text": [
            "8\n",
            "2\n",
            "15\n"
          ]
        }
      ]
    },
    {
      "cell_type": "code",
      "source": [
        "%%writefile SortStringsLambda.java\n",
        "import java.util.*;\n",
        "public class SortStringsLambda {\n",
        "    public static void main(String[] args) {\n",
        "        List<String> list = Arrays.asList(\"Apple\", \"Banana\", \"Mango\");\n",
        "        list.sort((s1, s2) -> s2.compareTo(s1));\n",
        "        System.out.println(list);\n",
        "    }\n",
        "}"
      ],
      "metadata": {
        "colab": {
          "base_uri": "https://localhost:8080/"
        },
        "id": "5w79M3i6_yZC",
        "outputId": "a5a9d788-1255-45df-9b6b-5a501f3869c3"
      },
      "execution_count": null,
      "outputs": [
        {
          "output_type": "stream",
          "name": "stdout",
          "text": [
            "Writing SortStringsLambda.java\n"
          ]
        }
      ]
    },
    {
      "cell_type": "code",
      "source": [
        "!javac SortStringsLambda.java\n",
        "!java SortStringsLambda\n"
      ],
      "metadata": {
        "colab": {
          "base_uri": "https://localhost:8080/"
        },
        "id": "XzV0ekt0_yXA",
        "outputId": "2cb85b2b-d9cc-414c-bd4d-ae98ef902f09"
      },
      "execution_count": null,
      "outputs": [
        {
          "output_type": "stream",
          "name": "stdout",
          "text": [
            "[Mango, Banana, Apple]\n"
          ]
        }
      ]
    },
    {
      "cell_type": "code",
      "source": [
        "%%writefile MethodReferenceSquare.java\n",
        "interface Square {\n",
        "    int calc(int x);\n",
        "}\n",
        "public class MethodReferenceSquare {\n",
        "    public static int square(int x) {\n",
        "        return x * x;\n",
        "    }\n",
        "    public static void main(String[] args) {\n",
        "        Square s = MethodReferenceSquare::square;\n",
        "        System.out.println(s.calc(5));\n",
        "    }\n",
        "}"
      ],
      "metadata": {
        "colab": {
          "base_uri": "https://localhost:8080/"
        },
        "id": "mK9La4Km_yTk",
        "outputId": "3511111e-0f7d-4a75-a353-1395f92d8bbc"
      },
      "execution_count": null,
      "outputs": [
        {
          "output_type": "stream",
          "name": "stdout",
          "text": [
            "Writing MethodReferenceSquare.java\n"
          ]
        }
      ]
    },
    {
      "cell_type": "code",
      "source": [
        "!javac MethodReferenceSquare.java\n",
        "!java MethodReferenceSquare"
      ],
      "metadata": {
        "colab": {
          "base_uri": "https://localhost:8080/"
        },
        "id": "R4BGlWZU_yRn",
        "outputId": "def22442-9317-481b-f431-55e388cfdbb2"
      },
      "execution_count": null,
      "outputs": [
        {
          "output_type": "stream",
          "name": "stdout",
          "text": [
            "25\n"
          ]
        }
      ]
    },
    {
      "cell_type": "code",
      "source": [
        "%%writefile TryCatchFinally.java\n",
        "public class TryCatchFinally {\n",
        "    public static void main(String[] args) {\n",
        "        try {\n",
        "            int a = 10 / 0;\n",
        "        } catch (ArithmeticException e) {\n",
        "            System.out.println(\"Exception caught\");\n",
        "        }\n",
        "        try {\n",
        "            int b = 20 / 0;\n",
        "        } catch (ArithmeticException e) {\n",
        "            System.out.println(\"Exception caught\");\n",
        "        } finally {\n",
        "            System.out.println(\"Finally block executed\");\n",
        "        }\n",
        "    }\n",
        "}"
      ],
      "metadata": {
        "colab": {
          "base_uri": "https://localhost:8080/"
        },
        "id": "I_ZZ5x9a_yN1",
        "outputId": "97fc5b8e-4479-4e27-e9a5-3c1da6aa1ad7"
      },
      "execution_count": null,
      "outputs": [
        {
          "output_type": "stream",
          "name": "stdout",
          "text": [
            "Writing TryCatchFinally.java\n"
          ]
        }
      ]
    },
    {
      "cell_type": "code",
      "source": [
        "!javac TryCatchFinally.java\n",
        "!java TryCatchFinally"
      ],
      "metadata": {
        "colab": {
          "base_uri": "https://localhost:8080/"
        },
        "id": "VCejlYQT_yL1",
        "outputId": "741246e0-7d46-4034-a18a-011f924e3cc3"
      },
      "execution_count": null,
      "outputs": [
        {
          "output_type": "stream",
          "name": "stdout",
          "text": [
            "Exception caught\n",
            "Exception caught\n",
            "Finally block executed\n"
          ]
        }
      ]
    },
    {
      "cell_type": "code",
      "source": [
        "%%writefile InvalidAgeExample.java\n",
        "class InvalidAgeException extends Exception {\n",
        "    public InvalidAgeException(String message) {\n",
        "        super(message);\n",
        "    }\n",
        "}\n",
        "public class InvalidAgeExample {\n",
        "    static void checkAge(int age) throws InvalidAgeException {\n",
        "        if (age < 18) throw new InvalidAgeException(\"Age less than 18\");\n",
        "    }\n",
        "    public static void main(String[] args) {\n",
        "        try {\n",
        "            checkAge(15);\n",
        "        } catch (InvalidAgeException e) {\n",
        "            System.out.println(e.getMessage());\n",
        "        }\n",
        "    }\n",
        "}"
      ],
      "metadata": {
        "colab": {
          "base_uri": "https://localhost:8080/"
        },
        "id": "7VF-l8Vs_yIk",
        "outputId": "fad41e51-9bf3-4878-d549-d9721516d3aa"
      },
      "execution_count": null,
      "outputs": [
        {
          "output_type": "stream",
          "name": "stdout",
          "text": [
            "Writing InvalidAgeExample.java\n"
          ]
        }
      ]
    },
    {
      "cell_type": "code",
      "source": [
        "!javac InvalidAgeExample.java\n",
        "!java InvalidAgeExample"
      ],
      "metadata": {
        "colab": {
          "base_uri": "https://localhost:8080/"
        },
        "id": "WJ3b7iso_yGF",
        "outputId": "ef3b314e-164a-45fa-ca8f-f8e530c9b39e"
      },
      "execution_count": null,
      "outputs": [
        {
          "output_type": "stream",
          "name": "stdout",
          "text": [
            "Age less than 18\n"
          ]
        }
      ]
    },
    {
      "cell_type": "code",
      "source": [
        "%%writefile FactorialThrow.java\n",
        "class NegativeNumberException extends Exception {\n",
        "    public NegativeNumberException(String message) {\n",
        "        super(message);\n",
        "    }\n",
        "}\n",
        "public class FactorialThrow {\n",
        "    static int factorial(int n) throws NegativeNumberException {\n",
        "        if (n < 0) throw new NegativeNumberException(\"Negative number\");\n",
        "        int fact = 1;\n",
        "        for (int i = 1; i <= n; i++) fact *= i;\n",
        "        return fact;\n",
        "    }\n",
        "    public static void main(String[] args) {\n",
        "        try {\n",
        "            System.out.println(factorial(5));\n",
        "            System.out.println(factorial(-2));\n",
        "        } catch (NegativeNumberException e) {\n",
        "            System.out.println(e.getMessage());\n",
        "        }\n",
        "    }\n",
        "}"
      ],
      "metadata": {
        "colab": {
          "base_uri": "https://localhost:8080/"
        },
        "id": "UkqM0Est_yCR",
        "outputId": "9607c339-2e11-4a63-c3bf-5e8627f129cf"
      },
      "execution_count": null,
      "outputs": [
        {
          "output_type": "stream",
          "name": "stdout",
          "text": [
            "Overwriting FactorialThrow.java\n"
          ]
        }
      ]
    },
    {
      "cell_type": "code",
      "source": [
        "!javac FactorialThrow.java\n",
        "!java FactorialThrow"
      ],
      "metadata": {
        "colab": {
          "base_uri": "https://localhost:8080/"
        },
        "id": "ZzGzMFAl_yAU",
        "outputId": "7f5a6444-ce1d-4761-baeb-7980703c8088"
      },
      "execution_count": null,
      "outputs": [
        {
          "output_type": "stream",
          "name": "stdout",
          "text": [
            "120\n",
            "Negative number\n"
          ]
        }
      ]
    },
    {
      "cell_type": "code",
      "source": [
        "%%writefile InvalidAgeLogger.java\n",
        "import java.io.IOException;\n",
        "import java.util.logging.*;\n",
        "class InvalidAgeException2 extends Exception {\n",
        "    public InvalidAgeException2(String message) {\n",
        "        super(message);\n",
        "    }\n",
        "}\n",
        "public class InvalidAgeLogger {\n",
        "    static Logger logger = Logger.getLogger(\"InvalidAgeLogger\");\n",
        "    static void checkAge(int age) throws InvalidAgeException2 {\n",
        "        if (age < 18) throw new InvalidAgeException2(\"Age less than 18\");\n",
        "    }\n",
        "    public static void main(String[] args) throws IOException {\n",
        "        FileHandler fh = new FileHandler(\"log.txt\");\n",
        "        logger.addHandler(fh);\n",
        "        logger.setUseParentHandlers(false);\n",
        "        SimpleFormatter formatter = new SimpleFormatter();\n",
        "        fh.setFormatter(formatter);\n",
        "        try {\n",
        "            checkAge(15);\n",
        "        } catch (InvalidAgeException2 e) {\n",
        "            logger.severe(e.getMessage());\n",
        "        }\n",
        "    }\n",
        "}\n"
      ],
      "metadata": {
        "colab": {
          "base_uri": "https://localhost:8080/"
        },
        "id": "BXe3TMqM_x8n",
        "outputId": "4247d64d-9736-4f79-a86c-31d7fbaa5f13"
      },
      "execution_count": null,
      "outputs": [
        {
          "output_type": "stream",
          "name": "stdout",
          "text": [
            "Writing InvalidAgeLogger.java\n"
          ]
        }
      ]
    },
    {
      "cell_type": "code",
      "source": [
        "!javac InvalidAgeLogger.java\n",
        "!java InvalidAgeLogger"
      ],
      "metadata": {
        "id": "VNubnmRc_x6m"
      },
      "execution_count": null,
      "outputs": []
    },
    {
      "cell_type": "code",
      "source": [
        "%%writefile ThreadExample.java\n",
        "public class ThreadExample {\n",
        "\n",
        "    public static void main(String[] args) {\n",
        "\n",
        "        Thread thread1 = new Thread(new MyRunnable(), \"thread1\" );\n",
        "\n",
        "        Thread thread2 = new Thread(new MyRunnable());\n",
        "        thread2.setName(\"Thread2\");\n",
        "\n",
        "        thread1.start();\n",
        "        thread2.start();\n",
        "    }\n",
        "\n",
        "    static class MyRunnable implements Runnable {\n",
        "        @Override\n",
        "        public void run() {\n",
        "            System.out.println(\"Running in thread: \" + Thread.currentThread().getName());\n",
        "        }\n",
        "    }\n",
        "}\n"
      ],
      "metadata": {
        "id": "zgitF88T_x3S",
        "colab": {
          "base_uri": "https://localhost:8080/"
        },
        "outputId": "b6581c90-830e-4d96-e548-8f7d3f335bce"
      },
      "execution_count": null,
      "outputs": [
        {
          "output_type": "stream",
          "name": "stdout",
          "text": [
            "Overwriting ThreadExample.java\n"
          ]
        }
      ]
    },
    {
      "cell_type": "code",
      "source": [
        "!javac ThreadExample.java\n",
        "!java ThreadExample"
      ],
      "metadata": {
        "id": "rpdHxtSl_x07",
        "colab": {
          "base_uri": "https://localhost:8080/"
        },
        "outputId": "4e00afdd-cc16-4fcb-8a31-d5bc72fd3302"
      },
      "execution_count": null,
      "outputs": [
        {
          "output_type": "stream",
          "name": "stdout",
          "text": [
            "Running in thread: thread1\n",
            "Running in thread: Thread2\n"
          ]
        }
      ]
    },
    {
      "cell_type": "code",
      "source": [
        "%%writefile sleep.java\n",
        "import java.io.*;\n",
        "import java.lang.Thread;\n",
        "\n",
        "class sleep\n",
        "{\n",
        "    public static void main(String[] args)\n",
        "    {\n",
        "\n",
        "        try {\n",
        "            for (int i = 1; i <= 5; i++) {\n",
        "                Thread.sleep(1000);\n",
        "                System.out.print(i+\" \");\n",
        "            }\n",
        "        }\n",
        "        catch (Exception e) {\n",
        "            System.out.println(e);\n",
        "        }\n",
        "    }\n",
        "}"
      ],
      "metadata": {
        "colab": {
          "base_uri": "https://localhost:8080/"
        },
        "id": "EP5ExuSZYbas",
        "outputId": "831dc952-802d-49f0-fad6-e015e5388c4c"
      },
      "execution_count": null,
      "outputs": [
        {
          "output_type": "stream",
          "name": "stdout",
          "text": [
            "Overwriting sleep.java\n"
          ]
        }
      ]
    },
    {
      "cell_type": "code",
      "source": [
        "!javac sleep.java\n",
        "!java sleep"
      ],
      "metadata": {
        "colab": {
          "base_uri": "https://localhost:8080/"
        },
        "id": "8JYgu0quYbYD",
        "outputId": "8ca409a9-38e7-4a0f-8d65-ff9c8e8b9084"
      },
      "execution_count": null,
      "outputs": [
        {
          "output_type": "stream",
          "name": "stdout",
          "text": [
            "1 2 3 4 5 "
          ]
        }
      ]
    },
    {
      "cell_type": "code",
      "source": [
        "%%writefile ThreadJoinExample.java\n",
        "public class ThreadJoinExample {\n",
        "\n",
        "    public static void main(String[] args) {\n",
        "        Thread childThread = new Thread(() -> {\n",
        "            try {\n",
        "                Thread.sleep(3000);\n",
        "            } catch (InterruptedException e) {\n",
        "                System.out.println(\"Child thread interrupted\");\n",
        "            }\n",
        "            System.out.println(\"Child thread has finished its task.\");\n",
        "        });\n",
        "\n",
        "        childThread.start();\n",
        "\n",
        "        try {\n",
        "\n",
        "            childThread.join();\n",
        "        } catch (InterruptedException e) {\n",
        "            System.out.println(\"Main thread interrupted while waiting.\");\n",
        "        }\n",
        "\n",
        "        System.out.println(\"Main thread has finished.\");\n",
        "    }\n",
        "}\n"
      ],
      "metadata": {
        "colab": {
          "base_uri": "https://localhost:8080/"
        },
        "id": "Fd2CKW4nYbVG",
        "outputId": "8d2210b9-85ce-49ca-f935-4425d0249837"
      },
      "execution_count": null,
      "outputs": [
        {
          "output_type": "stream",
          "name": "stdout",
          "text": [
            "Writing ThreadJoinExample.java\n"
          ]
        }
      ]
    },
    {
      "cell_type": "code",
      "source": [
        "!javac ThreadJoinExample.java\n",
        "!java ThreadJoinExample"
      ],
      "metadata": {
        "colab": {
          "base_uri": "https://localhost:8080/"
        },
        "id": "OjOCoR3iYbSU",
        "outputId": "384545c7-474a-4d62-ef49-f58dbb75fbe5"
      },
      "execution_count": null,
      "outputs": [
        {
          "output_type": "stream",
          "name": "stdout",
          "text": [
            "Child thread has finished its task.\n",
            "Main thread has finished.\n"
          ]
        }
      ]
    },
    {
      "cell_type": "code",
      "source": [
        "%%writefile MultiThreadGreetings.java\n",
        "import java.util.Random;\n",
        "\n",
        "public class MultiThreadGreetings {\n",
        "\n",
        "    public static void main(String[] args) {\n",
        "        Thread threadA = new Thread(new GreetingRunnable(\"Hello from Thread A!\"), \"Thread A\");\n",
        "        Thread threadB = new Thread(new GreetingRunnable(\"Greetings from Thread B!\"), \"Thread B\");\n",
        "        Thread threadC = new Thread(new GreetingRunnable(\"Hi from Thread C!\"), \"Thread C\");\n",
        "\n",
        "        threadA.start();\n",
        "        threadB.start();\n",
        "        threadC.start();\n",
        "    }\n",
        "\n",
        "    static class GreetingRunnable implements Runnable {\n",
        "        private final String message;\n",
        "        private final Random random = new Random();\n",
        "\n",
        "        public GreetingRunnable(String message) {\n",
        "            this.message = message;\n",
        "        }\n",
        "\n",
        "        @Override\n",
        "        public void run() {\n",
        "            for (int i = 0; i < 5; i++) {\n",
        "                System.out.println(message);\n",
        "                try {\n",
        "                    Thread.sleep(1000);\n",
        "                } catch (InterruptedException e) {\n",
        "                    System.out.println(Thread.currentThread().getName() + \" interrupted.\");\n",
        "                }\n",
        "            }\n",
        "        }\n",
        "    }\n",
        "}\n"
      ],
      "metadata": {
        "colab": {
          "base_uri": "https://localhost:8080/"
        },
        "id": "lyDaxmkpYbPV",
        "outputId": "be3fc4b8-4c33-43cc-c16a-9d887ecd4bdf"
      },
      "execution_count": null,
      "outputs": [
        {
          "output_type": "stream",
          "name": "stdout",
          "text": [
            "Overwriting MultiThreadGreetings.java\n"
          ]
        }
      ]
    },
    {
      "cell_type": "code",
      "source": [
        "!javac MultiThreadGreetings.java\n",
        "!java MultiThreadGreetings"
      ],
      "metadata": {
        "colab": {
          "base_uri": "https://localhost:8080/"
        },
        "id": "ahFa76QLYbMN",
        "outputId": "4953078d-3578-44a7-ca43-3a378feeeadd"
      },
      "execution_count": null,
      "outputs": [
        {
          "output_type": "stream",
          "name": "stdout",
          "text": [
            "Hello from Thread A!\n",
            "Greetings from Thread B!\n",
            "Hi from Thread C!\n",
            "Hello from Thread A!\n",
            "Greetings from Thread B!\n",
            "Hi from Thread C!\n",
            "Hello from Thread A!\n",
            "Greetings from Thread B!\n",
            "Hi from Thread C!\n",
            "Hello from Thread A!\n",
            "Hi from Thread C!\n",
            "Greetings from Thread B!\n",
            "Hello from Thread A!\n",
            "Greetings from Thread B!\n",
            "Hi from Thread C!\n"
          ]
        }
      ]
    },
    {
      "cell_type": "code",
      "source": [
        "%%writefile ThreadPriority.java\n",
        "public class ThreadPriority {\n",
        "\n",
        "    private static int counter = 0;\n",
        "\n",
        "    public static void main(String[] args) throws InterruptedException {\n",
        "        Runnable incrementTask = () -> {\n",
        "            for (int i = 0; i < 10000; i++) {\n",
        "                incrementCounter();\n",
        "            }\n",
        "        };\n",
        "\n",
        "        Thread highPriorityThread = new Thread(incrementTask, \"HighPriorityThread\");\n",
        "        Thread lowPriorityThread = new Thread(incrementTask, \"LowPriorityThread\");\n",
        "\n",
        "        highPriorityThread.setPriority(8);\n",
        "        lowPriorityThread.setPriority(2);\n",
        "\n",
        "        highPriorityThread.start();\n",
        "        lowPriorityThread.start();\n",
        "\n",
        "        highPriorityThread.join();\n",
        "        lowPriorityThread.join();\n",
        "\n",
        "\n",
        "        System.out.println(\"Final counter value: \" + counter);\n",
        "    }\n",
        "\n",
        "    private static synchronized void incrementCounter() {\n",
        "        counter++;\n",
        "    }\n",
        "}\n"
      ],
      "metadata": {
        "colab": {
          "base_uri": "https://localhost:8080/"
        },
        "id": "vLUXmjqfdAiK",
        "outputId": "15ee5b00-52ad-49bf-a0a8-d88e5ce30a0e"
      },
      "execution_count": null,
      "outputs": [
        {
          "output_type": "stream",
          "name": "stdout",
          "text": [
            "Writing ThreadPriority.java\n"
          ]
        }
      ]
    },
    {
      "cell_type": "code",
      "source": [
        "!javac ThreadPriority.java\n",
        "!java ThreadPriority"
      ],
      "metadata": {
        "colab": {
          "base_uri": "https://localhost:8080/"
        },
        "id": "bP4-6ekWdAf3",
        "outputId": "765ce154-61bd-4cf2-c0d2-271da26fd3a6"
      },
      "execution_count": null,
      "outputs": [
        {
          "output_type": "stream",
          "name": "stdout",
          "text": [
            "Final counter value: 20000\n"
          ]
        }
      ]
    },
    {
      "cell_type": "code",
      "source": [
        "%%writefile threadp.java\n",
        "public class threadp {\n",
        "    public static void main(String[] args) {\n",
        "        Runnable task = new Runnable() {\n",
        "            public void run() {\n",
        "                String name = Thread.currentThread().getName();\n",
        "                for (int i = 1; i <= 3; i++) {\n",
        "                    System.out.println(name + \" - iteration \" + i);\n",
        "                }\n",
        "            }\n",
        "        };\n",
        "\n",
        "        Thread threadA = new Thread(task, \"Thread A\");\n",
        "        threadA.setPriority(Thread.MIN_PRIORITY);\n",
        "\n",
        "        Thread threadB = new Thread(task, \"Thread B\");\n",
        "        threadB.setPriority(Thread.NORM_PRIORITY);\n",
        "\n",
        "        Thread threadC = new Thread(task, \"Thread C\");\n",
        "        threadC.setPriority(Thread.MAX_PRIORITY);\n",
        "\n",
        "        threadA.start();\n",
        "        threadB.start();\n",
        "        threadC.start();\n",
        "    }\n",
        "}\n"
      ],
      "metadata": {
        "colab": {
          "base_uri": "https://localhost:8080/"
        },
        "id": "JFEyCJPMdAdI",
        "outputId": "32702612-f5ee-4bda-b60c-4e18fb457126"
      },
      "execution_count": null,
      "outputs": [
        {
          "output_type": "stream",
          "name": "stdout",
          "text": [
            "Overwriting threadp.java\n"
          ]
        }
      ]
    },
    {
      "cell_type": "code",
      "source": [
        "!javac threadp.java\n",
        "!java threadp"
      ],
      "metadata": {
        "colab": {
          "base_uri": "https://localhost:8080/"
        },
        "id": "GO6YIEJ7dAag",
        "outputId": "f83de69b-85a3-49db-aee8-c10cf8f86cc8"
      },
      "execution_count": null,
      "outputs": [
        {
          "output_type": "stream",
          "name": "stdout",
          "text": [
            "Thread A - iteration 1\n",
            "Thread A - iteration 2\n",
            "Thread A - iteration 3\n",
            "Thread C - iteration 1\n",
            "Thread C - iteration 2\n",
            "Thread C - iteration 3\n",
            "Thread B - iteration 1\n",
            "Thread B - iteration 2\n",
            "Thread B - iteration 3\n"
          ]
        }
      ]
    }
  ]
}